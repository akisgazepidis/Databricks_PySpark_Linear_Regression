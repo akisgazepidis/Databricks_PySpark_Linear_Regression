{
 "cells": [
  {
   "cell_type": "code",
   "execution_count": 0,
   "metadata": {
    "application/vnd.databricks.v1+cell": {
     "cellMetadata": {
      "byteLimit": 2048000,
      "rowLimit": 10000
     },
     "inputWidgets": {},
     "nuid": "6482be4c-f067-47c9-b0ac-35c938b94601",
     "showTitle": false,
     "title": ""
    }
   },
   "outputs": [],
   "source": [
    "# File location and type\n",
    "file_location = \"/FileStore/tables/weatherHistory.csv\"\n",
    "file_type = \"csv\"\n",
    "\n",
    "# The applied options are for CSV files. For other file types, these will be ignored.\n",
    "df = spark.read.csv(file_location,\n",
    "                    header=True,\n",
    "                    inferSchema=True)"
   ]
  },
  {
   "cell_type": "code",
   "execution_count": 0,
   "metadata": {
    "application/vnd.databricks.v1+cell": {
     "cellMetadata": {
      "byteLimit": 2048000,
      "rowLimit": 10000
     },
     "inputWidgets": {},
     "nuid": "bd82bb99-1479-4d5c-be10-8c36df0f1d44",
     "showTitle": false,
     "title": ""
    }
   },
   "outputs": [
    {
     "output_type": "stream",
     "name": "stdout",
     "output_type": "stream",
     "text": [
      "root\n |-- Formatted Date: timestamp (nullable = true)\n |-- Summary: string (nullable = true)\n |-- Precip Type: string (nullable = true)\n |-- Temperature (C): double (nullable = true)\n |-- Apparent Temperature (C): double (nullable = true)\n |-- Humidity: double (nullable = true)\n |-- Wind Speed (km/h): double (nullable = true)\n |-- Wind Bearing (degrees): double (nullable = true)\n |-- Visibility (km): double (nullable = true)\n |-- Loud Cover: double (nullable = true)\n |-- Pressure (millibars): double (nullable = true)\n |-- Daily Summary: string (nullable = true)\n\n"
     ]
    }
   ],
   "source": [
    "df.printSchema()"
   ]
  },
  {
   "cell_type": "code",
   "execution_count": 0,
   "metadata": {
    "application/vnd.databricks.v1+cell": {
     "cellMetadata": {
      "byteLimit": 2048000,
      "rowLimit": 10000
     },
     "inputWidgets": {},
     "nuid": "b5f66379-6f7f-42ec-8e82-d0e0926a1721",
     "showTitle": false,
     "title": ""
    }
   },
   "outputs": [
    {
     "output_type": "stream",
     "name": "stdout",
     "output_type": "stream",
     "text": [
      "+-------------------+-------------+-----------+------------------+------------------------+--------+------------------+----------------------+------------------+----------+--------------------+--------------------+\n|     Formatted Date|      Summary|Precip Type|   Temperature (C)|Apparent Temperature (C)|Humidity| Wind Speed (km/h)|Wind Bearing (degrees)|   Visibility (km)|Loud Cover|Pressure (millibars)|       Daily Summary|\n+-------------------+-------------+-----------+------------------+------------------------+--------+------------------+----------------------+------------------+----------+--------------------+--------------------+\n|2006-03-31 22:00:00|Partly Cloudy|       rain| 9.472222222222221|      7.3888888888888875|    0.89|           14.1197|                 251.0|15.826300000000002|       0.0|             1015.13|Partly cloudy thr...|\n|2006-03-31 23:00:00|Partly Cloudy|       rain| 9.355555555555558|       7.227777777777776|    0.86|           14.2646|                 259.0|15.826300000000002|       0.0|             1015.63|Partly cloudy thr...|\n|2006-04-01 00:00:00|Mostly Cloudy|       rain| 9.377777777777778|       9.377777777777778|    0.89|3.9284000000000003|                 204.0|           14.9569|       0.0|             1015.94|Partly cloudy thr...|\n|2006-04-01 01:00:00|Partly Cloudy|       rain|  8.28888888888889|       5.944444444444446|    0.83|           14.1036|                 269.0|15.826300000000002|       0.0|             1016.41|Partly cloudy thr...|\n|2006-04-01 02:00:00|Mostly Cloudy|       rain| 8.755555555555553|       6.977777777777779|    0.83|           11.0446|                 259.0|15.826300000000002|       0.0|             1016.51|Partly cloudy thr...|\n|2006-04-01 03:00:00|Partly Cloudy|       rain| 9.222222222222221|        7.11111111111111|    0.85|           13.9587|                 258.0|           14.9569|       0.0|             1016.66|Partly cloudy thr...|\n|2006-04-01 04:00:00|Partly Cloudy|       rain| 7.733333333333334|       5.522222222222221|    0.95|           12.3648|                 259.0| 9.982000000000001|       0.0|             1016.72|Partly cloudy thr...|\n|2006-04-01 05:00:00|Partly Cloudy|       rain|  8.77222222222222|       6.527777777777778|    0.89|           14.1519|                 260.0| 9.982000000000001|       0.0|             1016.84|Partly cloudy thr...|\n|2006-04-01 06:00:00|Partly Cloudy|       rain| 10.82222222222222|       10.82222222222222|    0.82|           11.3183|                 259.0| 9.982000000000001|       0.0|             1017.37|Partly cloudy thr...|\n|2006-04-01 07:00:00|Partly Cloudy|       rain| 13.77222222222222|       13.77222222222222|    0.72|12.525800000000002|                 279.0| 9.982000000000001|       0.0|             1017.22|Partly cloudy thr...|\n|2006-04-01 08:00:00|Partly Cloudy|       rain|16.016666666666666|      16.016666666666666|    0.67|           17.5651|                 290.0|           11.2056|       0.0|             1017.42|Partly cloudy thr...|\n|2006-04-01 09:00:00|Partly Cloudy|       rain|17.144444444444446|      17.144444444444446|    0.54|           19.7869|                 316.0|           11.4471|       0.0|             1017.74|Partly cloudy thr...|\n|2006-04-01 10:00:00|Partly Cloudy|       rain|17.800000000000004|      17.800000000000004|    0.55|21.944300000000002|                 281.0|11.270000000000001|       0.0|             1017.59|Partly cloudy thr...|\n|2006-04-01 11:00:00|Partly Cloudy|       rain|17.333333333333332|      17.333333333333332|    0.51|           20.6885|                 289.0|11.270000000000001|       0.0|             1017.48|Partly cloudy thr...|\n|2006-04-01 12:00:00|Partly Cloudy|       rain| 18.87777777777778|       18.87777777777778|    0.47|15.375500000000002|                 262.0|           11.4471|       0.0|             1017.17|Partly cloudy thr...|\n|2006-04-01 13:00:00|Partly Cloudy|       rain|18.911111111111115|      18.911111111111115|    0.46|           10.4006|                 288.0|11.270000000000001|       0.0|             1016.47|Partly cloudy thr...|\n|2006-04-01 14:00:00|Partly Cloudy|       rain| 15.38888888888889|       15.38888888888889|     0.6|           14.4095|                 251.0|11.270000000000001|       0.0|             1016.15|Partly cloudy thr...|\n|2006-04-01 15:00:00|Mostly Cloudy|       rain|15.550000000000002|      15.550000000000002|    0.63|11.157300000000001|                 230.0|           11.4471|       0.0|             1016.17|Partly cloudy thr...|\n|2006-04-01 16:00:00|Mostly Cloudy|       rain|14.255555555555553|      14.255555555555553|    0.69|            8.5169|                 163.0|           11.2056|       0.0|             1015.82|Partly cloudy thr...|\n|2006-04-01 17:00:00|Mostly Cloudy|       rain|13.144444444444442|      13.144444444444442|     0.7| 7.631400000000001|                 139.0|           11.2056|       0.0|             1015.83|Partly cloudy thr...|\n+-------------------+-------------+-----------+------------------+------------------------+--------+------------------+----------------------+------------------+----------+--------------------+--------------------+\nonly showing top 20 rows\n\n"
     ]
    }
   ],
   "source": [
    "df.show()"
   ]
  },
  {
   "cell_type": "code",
   "execution_count": 0,
   "metadata": {
    "application/vnd.databricks.v1+cell": {
     "cellMetadata": {
      "byteLimit": 2048000,
      "rowLimit": 10000
     },
     "inputWidgets": {},
     "nuid": "db9631f6-bb4a-42ca-8a3c-0d48af932331",
     "showTitle": false,
     "title": ""
    }
   },
   "outputs": [
    {
     "output_type": "stream",
     "name": "stdout",
     "output_type": "stream",
     "text": [
      "+--------+\n|Humidity|\n+--------+\n|    0.89|\n|    0.86|\n|    0.89|\n|    0.83|\n|    0.83|\n|    0.85|\n|    0.95|\n|    0.89|\n|    0.82|\n|    0.72|\n|    0.67|\n|    0.54|\n|    0.55|\n|    0.51|\n|    0.47|\n|    0.46|\n|     0.6|\n|    0.63|\n|    0.69|\n|     0.7|\n+--------+\nonly showing top 20 rows\n\n"
     ]
    }
   ],
   "source": [
    "df.select(\"Humidity\").show()"
   ]
  },
  {
   "cell_type": "code",
   "execution_count": 0,
   "metadata": {
    "application/vnd.databricks.v1+cell": {
     "cellMetadata": {
      "byteLimit": 2048000,
      "rowLimit": 10000
     },
     "inputWidgets": {},
     "nuid": "a467e5f9-6141-4651-a453-99c81953f1ef",
     "showTitle": false,
     "title": ""
    }
   },
   "outputs": [
    {
     "output_type": "stream",
     "name": "stdout",
     "output_type": "stream",
     "text": [
      "Out[6]: ['Formatted Date',\n 'Summary',\n 'Precip Type',\n 'Temperature (C)',\n 'Apparent Temperature (C)',\n 'Humidity',\n 'Wind Speed (km/h)',\n 'Wind Bearing (degrees)',\n 'Visibility (km)',\n 'Loud Cover',\n 'Pressure (millibars)',\n 'Daily Summary']"
     ]
    }
   ],
   "source": [
    "df.columns"
   ]
  },
  {
   "cell_type": "code",
   "execution_count": 0,
   "metadata": {
    "application/vnd.databricks.v1+cell": {
     "cellMetadata": {
      "byteLimit": 2048000,
      "rowLimit": 10000
     },
     "inputWidgets": {},
     "nuid": "5d6f092e-5ffd-4ea4-9085-4a861ae12b96",
     "showTitle": false,
     "title": ""
    }
   },
   "outputs": [
    {
     "output_type": "stream",
     "name": "stdout",
     "output_type": "stream",
     "text": [
      "+-------------+--------------------+-----------+-------------------+\n|      Summary|       Daily Summary|Precip Type|     Formatted Date|\n+-------------+--------------------+-----------+-------------------+\n|Partly Cloudy|Partly cloudy thr...|       rain|2006-03-31 22:00:00|\n|Partly Cloudy|Partly cloudy thr...|       rain|2006-03-31 23:00:00|\n|Mostly Cloudy|Partly cloudy thr...|       rain|2006-04-01 00:00:00|\n|Partly Cloudy|Partly cloudy thr...|       rain|2006-04-01 01:00:00|\n|Mostly Cloudy|Partly cloudy thr...|       rain|2006-04-01 02:00:00|\n|Partly Cloudy|Partly cloudy thr...|       rain|2006-04-01 03:00:00|\n|Partly Cloudy|Partly cloudy thr...|       rain|2006-04-01 04:00:00|\n|Partly Cloudy|Partly cloudy thr...|       rain|2006-04-01 05:00:00|\n|Partly Cloudy|Partly cloudy thr...|       rain|2006-04-01 06:00:00|\n|Partly Cloudy|Partly cloudy thr...|       rain|2006-04-01 07:00:00|\n|Partly Cloudy|Partly cloudy thr...|       rain|2006-04-01 08:00:00|\n|Partly Cloudy|Partly cloudy thr...|       rain|2006-04-01 09:00:00|\n|Partly Cloudy|Partly cloudy thr...|       rain|2006-04-01 10:00:00|\n|Partly Cloudy|Partly cloudy thr...|       rain|2006-04-01 11:00:00|\n|Partly Cloudy|Partly cloudy thr...|       rain|2006-04-01 12:00:00|\n|Partly Cloudy|Partly cloudy thr...|       rain|2006-04-01 13:00:00|\n|Partly Cloudy|Partly cloudy thr...|       rain|2006-04-01 14:00:00|\n|Mostly Cloudy|Partly cloudy thr...|       rain|2006-04-01 15:00:00|\n|Mostly Cloudy|Partly cloudy thr...|       rain|2006-04-01 16:00:00|\n|Mostly Cloudy|Partly cloudy thr...|       rain|2006-04-01 17:00:00|\n+-------------+--------------------+-----------+-------------------+\nonly showing top 20 rows\n\n"
     ]
    }
   ],
   "source": [
    "## Print no numerical columns\n",
    "df.select([\"Summary\",\"Daily Summary\", \"Precip Type\", \"Formatted Date\"]).show()"
   ]
  },
  {
   "cell_type": "code",
   "execution_count": 0,
   "metadata": {
    "application/vnd.databricks.v1+cell": {
     "cellMetadata": {
      "byteLimit": 2048000,
      "rowLimit": 10000
     },
     "inputWidgets": {},
     "nuid": "52a77281-0f90-4209-a2d3-90a5a0b63e15",
     "showTitle": false,
     "title": ""
    }
   },
   "outputs": [
    {
     "output_type": "stream",
     "name": "stdout",
     "output_type": "stream",
     "text": [
      "Out[24]: [Row(Precip Type='rain'), Row(Precip Type='snow'), Row(Precip Type='null')]"
     ]
    }
   ],
   "source": [
    "df.select(\"Precip Type\").distinct().collect()"
   ]
  },
  {
   "cell_type": "code",
   "execution_count": 0,
   "metadata": {
    "application/vnd.databricks.v1+cell": {
     "cellMetadata": {
      "byteLimit": 2048000,
      "rowLimit": 10000
     },
     "inputWidgets": {},
     "nuid": "71167c1c-9977-4370-9366-8eac4aa173d9",
     "showTitle": false,
     "title": ""
    }
   },
   "outputs": [
    {
     "output_type": "stream",
     "name": "stdout",
     "output_type": "stream",
     "text": [
      "Out[25]: [Row(Daily Summary='Foggy until night.'),\n Row(Daily Summary='Partly cloudy overnight.'),\n Row(Daily Summary='Partly cloudy throughout the day and breezy in the evening.'),\n Row(Daily Summary='Partly cloudy in the afternoon.'),\n Row(Daily Summary='Clear throughout the day.'),\n Row(Daily Summary='Breezy starting overnight continuing until afternoon and mostly cloudy starting overnight continuing until evening.'),\n Row(Daily Summary='Foggy overnight.'),\n Row(Daily Summary='Partly cloudy throughout the day.'),\n Row(Daily Summary='Mostly cloudy starting overnight continuing until evening and breezy starting overnight continuing until morning.'),\n Row(Daily Summary='Mostly cloudy starting overnight continuing until evening.'),\n Row(Daily Summary='Foggy in the morning.'),\n Row(Daily Summary='Partly cloudy throughout the day and breezy starting in the morning continuing until evening.'),\n Row(Daily Summary='Foggy starting overnight continuing until night.'),\n Row(Daily Summary='Partly cloudy until evening and breezy in the morning.'),\n Row(Daily Summary='Mostly cloudy throughout the day.'),\n Row(Daily Summary='Mostly cloudy starting in the morning continuing until night.'),\n Row(Daily Summary='Breezy and partly cloudy in the afternoon.'),\n Row(Daily Summary='Partly cloudy until night and breezy starting in the morning continuing until afternoon.'),\n Row(Daily Summary='Mostly cloudy starting in the afternoon continuing until night.'),\n Row(Daily Summary='Mostly cloudy until night.'),\n Row(Daily Summary='Partly cloudy starting overnight continuing until night.'),\n Row(Daily Summary='Foggy until morning.'),\n Row(Daily Summary='Partly cloudy starting overnight.'),\n Row(Daily Summary='Partly cloudy starting in the evening continuing until night.'),\n Row(Daily Summary='Partly cloudy starting overnight and breezy in the afternoon.'),\n Row(Daily Summary='Partly cloudy in the evening.'),\n Row(Daily Summary='Partly cloudy starting overnight continuing until afternoon and breezy in the afternoon.'),\n Row(Daily Summary='Breezy starting overnight continuing until afternoon and foggy starting in the morning continuing until evening.'),\n Row(Daily Summary='Mostly cloudy until night and breezy starting in the morning continuing until afternoon.'),\n Row(Daily Summary='Mostly cloudy starting in the morning and breezy in the evening.'),\n Row(Daily Summary='Overcast throughout the day.'),\n Row(Daily Summary='Breezy starting overnight continuing until morning and partly cloudy starting overnight continuing until evening.'),\n Row(Daily Summary='Overcast starting in the morning.'),\n Row(Daily Summary='Partly cloudy until afternoon.'),\n Row(Daily Summary='Partly cloudy starting overnight continuing until evening and breezy starting in the morning continuing until evening.'),\n Row(Daily Summary='Mostly cloudy throughout the day and breezy starting in the morning continuing until afternoon.'),\n Row(Daily Summary='Mostly cloudy until evening.'),\n Row(Daily Summary='Mostly cloudy starting in the afternoon.'),\n Row(Daily Summary='Partly cloudy starting overnight continuing until evening and breezy in the evening.'),\n Row(Daily Summary='Foggy until afternoon.'),\n Row(Daily Summary='Mostly cloudy starting in the morning and breezy overnight.'),\n Row(Daily Summary='Foggy starting overnight continuing until evening.'),\n Row(Daily Summary='Mostly cloudy throughout the day and windy starting in the morning continuing until evening.'),\n Row(Daily Summary='Mostly cloudy starting overnight and breezy in the afternoon.'),\n Row(Daily Summary='Partly cloudy starting in the morning continuing until afternoon.'),\n Row(Daily Summary='Mostly cloudy starting overnight and breezy in the morning.'),\n Row(Daily Summary='Overcast throughout the day and breezy starting overnight continuing until morning.'),\n Row(Daily Summary='Foggy starting in the morning continuing until night.'),\n Row(Daily Summary='Overcast until night.'),\n Row(Daily Summary='Foggy starting in the evening.'),\n Row(Daily Summary='Mostly cloudy starting overnight.'),\n Row(Daily Summary='Breezy and mostly cloudy overnight.'),\n Row(Daily Summary='Mostly cloudy starting overnight and breezy starting in the morning continuing until afternoon.'),\n Row(Daily Summary='Mostly cloudy starting in the morning continuing until afternoon.'),\n Row(Daily Summary='Mostly cloudy starting in the morning continuing until evening.'),\n Row(Daily Summary='Mostly cloudy throughout the day and breezy in the evening.'),\n Row(Daily Summary='Overcast until evening.'),\n Row(Daily Summary='Mostly cloudy until night and breezy in the evening.'),\n Row(Daily Summary='Foggy in the evening.'),\n Row(Daily Summary='Mostly cloudy starting in the morning.'),\n Row(Daily Summary='Foggy starting overnight continuing until morning.'),\n Row(Daily Summary='Foggy starting in the morning continuing until evening.'),\n Row(Daily Summary='Partly cloudy starting in the evening.'),\n Row(Daily Summary='Foggy starting in the evening continuing until night.'),\n Row(Daily Summary='Partly cloudy until evening.'),\n Row(Daily Summary='Partly cloudy starting in the morning.'),\n Row(Daily Summary='Mostly cloudy until morning.'),\n Row(Daily Summary='Partly cloudy until morning.'),\n Row(Daily Summary='Partly cloudy starting in the morning continuing until evening and breezy starting in the afternoon continuing until evening.'),\n Row(Daily Summary='Partly cloudy starting in the morning and breezy in the evening.'),\n Row(Daily Summary='Foggy starting in the afternoon continuing until night.'),\n Row(Daily Summary='Mostly cloudy until afternoon.'),\n Row(Daily Summary='Foggy throughout the day.'),\n Row(Daily Summary='Partly cloudy starting overnight continuing until morning.'),\n Row(Daily Summary='Partly cloudy starting overnight continuing until evening.'),\n Row(Daily Summary='Foggy in the morning and breezy starting in the afternoon continuing until night.'),\n Row(Daily Summary='Foggy starting in the morning continuing until afternoon.'),\n Row(Daily Summary='Mostly cloudy starting overnight continuing until afternoon.'),\n Row(Daily Summary='Foggy starting in the afternoon continuing until evening.'),\n Row(Daily Summary='Foggy overnight and breezy in the morning.'),\n Row(Daily Summary='Mostly cloudy throughout the day and breezy in the morning.'),\n Row(Daily Summary='Mostly cloudy throughout the day and breezy starting in the evening.'),\n Row(Daily Summary='Partly cloudy throughout the day and breezy starting in the afternoon continuing until evening.'),\n Row(Daily Summary='Mostly cloudy until evening and breezy starting in the morning continuing until afternoon.'),\n Row(Daily Summary='Mostly cloudy throughout the day and windy starting in the morning continuing until night.'),\n Row(Daily Summary='Foggy starting overnight.'),\n Row(Daily Summary='Partly cloudy starting overnight continuing until morning and breezy starting in the morning continuing until afternoon.'),\n Row(Daily Summary='Overcast until night and breezy overnight.'),\n Row(Daily Summary='Partly cloudy starting overnight continuing until evening and breezy starting in the morning continuing until afternoon.'),\n Row(Daily Summary='Partly cloudy starting in the afternoon.'),\n Row(Daily Summary='Mostly cloudy throughout the day and breezy in the afternoon.'),\n Row(Daily Summary='Foggy starting in the afternoon.'),\n Row(Daily Summary='Foggy until evening.'),\n Row(Daily Summary='Partly cloudy until night.'),\n Row(Daily Summary='Partly cloudy throughout the day and breezy starting in the morning continuing until night.'),\n Row(Daily Summary='Partly cloudy throughout the day and breezy starting in the morning continuing until afternoon.'),\n Row(Daily Summary='Partly cloudy starting in the morning continuing until evening and breezy starting in the morning continuing until afternoon.'),\n Row(Daily Summary='Partly cloudy starting in the afternoon continuing until night.'),\n Row(Daily Summary='Foggy starting overnight continuing until afternoon.'),\n Row(Daily Summary='Partly cloudy starting in the afternoon continuing until evening.'),\n Row(Daily Summary='Breezy until morning and mostly cloudy throughout the day.'),\n Row(Daily Summary='Mostly cloudy until night and breezy in the afternoon.'),\n Row(Daily Summary='Breezy starting overnight continuing until morning and foggy in the evening.'),\n Row(Daily Summary='Mostly cloudy throughout the day and breezy starting in the morning continuing until evening.'),\n Row(Daily Summary='Partly cloudy in the morning.'),\n Row(Daily Summary='Foggy starting in the morning.'),\n Row(Daily Summary='Partly cloudy until evening and breezy starting in the morning continuing until afternoon.'),\n Row(Daily Summary='Partly cloudy starting overnight continuing until afternoon.'),\n Row(Daily Summary='Mostly cloudy throughout the day and breezy overnight.'),\n Row(Daily Summary='Mostly cloudy starting overnight continuing until night.'),\n Row(Daily Summary='Partly cloudy throughout the day and breezy in the morning.'),\n Row(Daily Summary='Partly cloudy starting in the morning continuing until evening.'),\n Row(Daily Summary='Partly cloudy starting in the afternoon and breezy in the afternoon.'),\n Row(Daily Summary='Breezy starting overnight continuing until morning and partly cloudy starting in the morning.'),\n Row(Daily Summary='Partly cloudy starting in the morning continuing until night.'),\n Row(Daily Summary='Mostly cloudy until night and breezy starting in the evening.'),\n Row(Daily Summary='Mostly cloudy throughout the day and breezy starting overnight continuing until afternoon.'),\n Row(Daily Summary='Partly cloudy starting overnight continuing until evening and windy starting in the morning continuing until evening.'),\n Row(Daily Summary='Foggy starting overnight continuing until morning and breezy in the afternoon.'),\n Row(Daily Summary='Overcast throughout the day and breezy in the morning.'),\n Row(Daily Summary='Foggy starting overnight continuing until morning and breezy starting in the evening continuing until night.'),\n Row(Daily Summary='Foggy starting overnight continuing until morning and breezy starting in the evening.'),\n Row(Daily Summary='Mostly cloudy throughout the day and breezy starting in the morning continuing until night.'),\n Row(Daily Summary='Partly cloudy starting overnight continuing until night and windy starting in the morning continuing until afternoon.'),\n Row(Daily Summary='Mostly cloudy starting overnight continuing until morning.'),\n Row(Daily Summary='Mostly cloudy starting overnight and breezy starting in the afternoon continuing until evening.'),\n Row(Daily Summary='Foggy starting overnight continuing until afternoon and breezy in the morning.'),\n Row(Daily Summary='Partly cloudy starting in the morning and breezy starting in the afternoon continuing until evening.'),\n Row(Daily Summary='Mostly cloudy until night and breezy starting in the afternoon.'),\n Row(Daily Summary='Partly cloudy starting in the morning continuing until evening and breezy in the afternoon.'),\n Row(Daily Summary='Mostly cloudy starting in the morning and breezy in the afternoon.'),\n Row(Daily Summary='Partly cloudy starting in the morning continuing until night and breezy starting in the afternoon continuing until evening.'),\n Row(Daily Summary='Mostly cloudy until night and breezy starting in the afternoon continuing until night.'),\n Row(Daily Summary='Partly cloudy starting overnight continuing until evening and breezy in the morning.'),\n Row(Daily Summary='Foggy starting in the morning continuing until afternoon and breezy starting in the evening.'),\n Row(Daily Summary='Breezy starting in the morning continuing until afternoon and mostly cloudy starting in the morning.'),\n Row(Daily Summary='Partly cloudy until evening and breezy overnight.'),\n Row(Daily Summary='Overcast throughout the day and breezy in the evening.'),\n Row(Daily Summary='Breezy starting in the morning continuing until afternoon and partly cloudy starting in the morning.'),\n Row(Daily Summary='Mostly cloudy until night and breezy starting in the evening continuing until night.'),\n Row(Daily Summary='Breezy in the morning and mostly cloudy starting in the morning.'),\n Row(Daily Summary='Breezy until afternoon and mostly cloudy throughout the day.'),\n Row(Daily Summary='Mostly cloudy throughout the day and breezy starting overnight continuing until morning.'),\n Row(Daily Summary='Mostly cloudy until night and breezy starting in the morning continuing until evening.'),\n Row(Daily Summary='Breezy starting overnight continuing until morning and foggy overnight.'),\n Row(Daily Summary='Breezy in the morning and partly cloudy starting in the evening continuing until night.'),\n Row(Daily Summary='Partly cloudy starting overnight and breezy starting in the morning continuing until afternoon.'),\n Row(Daily Summary='Overcast throughout the day and breezy starting overnight continuing until afternoon.'),\n Row(Daily Summary='Mostly cloudy until evening and windy starting in the morning continuing until afternoon.'),\n Row(Daily Summary='Foggy starting overnight continuing until morning and breezy starting in the morning continuing until afternoon.'),\n Row(Daily Summary='Mostly cloudy starting overnight continuing until night and breezy starting in the morning continuing until evening.'),\n Row(Daily Summary='Partly cloudy until night and breezy in the morning.'),\n Row(Daily Summary='Mostly cloudy starting in the morning continuing until night and breezy in the afternoon.'),\n Row(Daily Summary='Partly cloudy until evening and breezy starting in the morning continuing until evening.'),\n Row(Daily Summary='Foggy in the afternoon.'),\n Row(Daily Summary='Overcast until morning.'),\n Row(Daily Summary='Windy in the afternoon.'),\n Row(Daily Summary='Breezy starting in the afternoon continuing until night and mostly cloudy starting in the evening.'),\n Row(Daily Summary='Breezy overnight and overcast throughout the day.'),\n Row(Daily Summary='Foggy starting in the morning continuing until evening and breezy in the evening.'),\n Row(Daily Summary='Breezy and foggy until morning.'),\n Row(Daily Summary='Mostly cloudy throughout the day and breezy starting in the afternoon continuing until evening.'),\n Row(Daily Summary='Breezy until evening and foggy in the morning.'),\n Row(Daily Summary='Partly cloudy starting in the morning continuing until night and breezy starting in the morning continuing until afternoon.'),\n Row(Daily Summary='Breezy starting in the afternoon continuing until evening and foggy starting in the evening.'),\n Row(Daily Summary='Partly cloudy until night and breezy in the afternoon.'),\n Row(Daily Summary='Light rain until morning.'),\n Row(Daily Summary='Partly cloudy starting overnight continuing until night and breezy in the afternoon.'),\n Row(Daily Summary='Foggy starting in the afternoon and breezy starting in the afternoon continuing until evening.'),\n Row(Daily Summary='Mostly cloudy until night and breezy starting overnight continuing until morning.'),\n Row(Daily Summary='Mostly cloudy throughout the day and breezy starting in the evening continuing until night.'),\n Row(Daily Summary='Mostly cloudy until night and windy starting in the morning continuing until afternoon.'),\n Row(Daily Summary='Partly cloudy overnight and breezy starting in the morning continuing until afternoon.'),\n Row(Daily Summary='Breezy and foggy starting in the evening.'),\n Row(Daily Summary='Partly cloudy starting overnight continuing until night and breezy in the morning.'),\n Row(Daily Summary='Light rain in the morning.'),\n Row(Daily Summary='Light rain in the morning and afternoon.'),\n Row(Daily Summary='Mostly cloudy starting overnight and breezy starting in the evening.'),\n Row(Daily Summary='Mostly cloudy until night and breezy overnight.'),\n Row(Daily Summary='Breezy overnight and partly cloudy until evening.'),\n Row(Daily Summary='Mostly cloudy until evening and breezy in the evening.'),\n Row(Daily Summary='Partly cloudy until evening and breezy in the afternoon.'),\n Row(Daily Summary='Mostly cloudy throughout the day and breezy starting in the afternoon.'),\n Row(Daily Summary='Mostly cloudy starting in the evening.'),\n Row(Daily Summary='Overcast throughout the day and breezy starting in the evening.'),\n Row(Daily Summary='Mostly cloudy overnight.'),\n Row(Daily Summary='Partly cloudy starting in the morning and breezy starting in the morning continuing until afternoon.'),\n Row(Daily Summary='Partly cloudy starting overnight and breezy starting in the evening.'),\n Row(Daily Summary='Breezy overnight and partly cloudy throughout the day.'),\n Row(Daily Summary='Breezy overnight and mostly cloudy throughout the day.'),\n Row(Daily Summary='Mostly cloudy starting in the morning and breezy starting in the afternoon continuing until evening.'),\n Row(Daily Summary='Breezy starting overnight continuing until morning.'),\n Row(Daily Summary='Overcast throughout the day and breezy in the afternoon.'),\n Row(Daily Summary='Light rain starting overnight.'),\n Row(Daily Summary='Light rain overnight.'),\n Row(Daily Summary='Rain until afternoon.'),\n Row(Daily Summary='Overcast throughout the day and breezy overnight.'),\n Row(Daily Summary='Rain throughout the day.'),\n Row(Daily Summary='Rain until morning.'),\n Row(Daily Summary='Breezy in the morning and foggy in the evening.'),\n Row(Daily Summary='Drizzle starting in the evening.'),\n Row(Daily Summary='Breezy in the morning and mostly cloudy starting in the evening.'),\n Row(Daily Summary='Overcast throughout the day and breezy starting in the morning continuing until evening.'),\n Row(Daily Summary='Mostly cloudy until night and breezy starting in the afternoon continuing until evening.'),\n Row(Daily Summary='Mostly cloudy until evening and breezy in the afternoon.'),\n Row(Daily Summary='Partly cloudy throughout the day and breezy in the afternoon.'),\n Row(Daily Summary='Drizzle until morning.'),\n Row(Daily Summary='Breezy until afternoon and overcast throughout the day.'),\n Row(Daily Summary='Breezy starting in the afternoon continuing until evening and foggy in the evening.'),\n Row(Daily Summary='Mostly cloudy starting in the morning and windy in the evening.'),\n Row(Daily Summary='Partly cloudy throughout the day and windy starting in the morning continuing until afternoon.'),\n Row(Daily Summary='Breezy starting in the morning continuing until night.'),\n Row(Daily Summary='Overcast starting in the afternoon.'),\n Row(Daily Summary='Mostly cloudy until evening and breezy starting overnight continuing until morning.')]"
     ]
    }
   ],
   "source": [
    "df.select(\"Daily Summary\").distinct().collect()"
   ]
  },
  {
   "cell_type": "code",
   "execution_count": 0,
   "metadata": {
    "application/vnd.databricks.v1+cell": {
     "cellMetadata": {
      "byteLimit": 2048000,
      "rowLimit": 10000
     },
     "inputWidgets": {},
     "nuid": "28bd76f0-5ff1-4555-bd91-948e99948aca",
     "showTitle": false,
     "title": ""
    }
   },
   "outputs": [
    {
     "output_type": "stream",
     "name": "stdout",
     "output_type": "stream",
     "text": [
      "Out[26]: [Row(Summary='Breezy'),\n Row(Summary='Humid and Mostly Cloudy'),\n Row(Summary='Windy and Overcast'),\n Row(Summary='Foggy'),\n Row(Summary='Humid and Partly Cloudy'),\n Row(Summary='Windy and Foggy'),\n Row(Summary='Breezy and Partly Cloudy'),\n Row(Summary='Dry'),\n Row(Summary='Partly Cloudy'),\n Row(Summary='Clear'),\n Row(Summary='Mostly Cloudy'),\n Row(Summary='Breezy and Foggy'),\n Row(Summary='Breezy and Overcast'),\n Row(Summary='Dangerously Windy and Partly Cloudy'),\n Row(Summary='Breezy and Mostly Cloudy'),\n Row(Summary='Windy and Partly Cloudy'),\n Row(Summary='Windy'),\n Row(Summary='Dry and Partly Cloudy'),\n Row(Summary='Windy and Mostly Cloudy'),\n Row(Summary='Overcast'),\n Row(Summary='Humid and Overcast'),\n Row(Summary='Drizzle'),\n Row(Summary='Breezy and Dry'),\n Row(Summary='Windy and Dry'),\n Row(Summary='Light Rain'),\n Row(Summary='Dry and Mostly Cloudy'),\n Row(Summary='Rain')]"
     ]
    }
   ],
   "source": [
    "df.select(\"Summary\").distinct().collect()"
   ]
  },
  {
   "cell_type": "code",
   "execution_count": 0,
   "metadata": {
    "application/vnd.databricks.v1+cell": {
     "cellMetadata": {
      "byteLimit": 2048000,
      "rowLimit": 10000
     },
     "inputWidgets": {},
     "nuid": "0d046b2f-c043-4498-a26f-4c85e71328b7",
     "showTitle": false,
     "title": ""
    }
   },
   "outputs": [],
   "source": [
    "df = df.drop(\"Summary\", \"Daily Summary\", \"Formatted Date\")"
   ]
  },
  {
   "cell_type": "code",
   "execution_count": 0,
   "metadata": {
    "application/vnd.databricks.v1+cell": {
     "cellMetadata": {
      "byteLimit": 2048000,
      "rowLimit": 10000
     },
     "inputWidgets": {},
     "nuid": "fb8fafb7-d39e-451f-a284-e953468a181e",
     "showTitle": false,
     "title": ""
    }
   },
   "outputs": [],
   "source": [
    "## Handling Categorical Features\n",
    "\n",
    "from pyspark.ml.feature import StringIndexer"
   ]
  },
  {
   "cell_type": "code",
   "execution_count": 0,
   "metadata": {
    "application/vnd.databricks.v1+cell": {
     "cellMetadata": {
      "byteLimit": 2048000,
      "rowLimit": 10000
     },
     "inputWidgets": {},
     "nuid": "24d354cb-f9d5-47a9-85a2-e1061f9c0940",
     "showTitle": false,
     "title": ""
    }
   },
   "outputs": [],
   "source": [
    "indexer = StringIndexer(inputCol=\"Precip Type\", outputCol=\"Precip_Type_indexed\")\n",
    "\n",
    "df_new = indexer.fit(df).transform(df)\n"
   ]
  },
  {
   "cell_type": "code",
   "execution_count": 0,
   "metadata": {
    "application/vnd.databricks.v1+cell": {
     "cellMetadata": {
      "byteLimit": 2048000,
      "rowLimit": 10000
     },
     "inputWidgets": {},
     "nuid": "a22440f0-7221-4789-92ef-c5ffd591bec5",
     "showTitle": false,
     "title": ""
    }
   },
   "outputs": [
    {
     "output_type": "stream",
     "name": "stdout",
     "output_type": "stream",
     "text": [
      "+------------------+--------+------------------+----------------------+------------------+----------+--------------------+-------------------+\n|   Temperature (C)|Humidity| Wind Speed (km/h)|Wind Bearing (degrees)|   Visibility (km)|Loud Cover|Pressure (millibars)|Precip_Type_indexed|\n+------------------+--------+------------------+----------------------+------------------+----------+--------------------+-------------------+\n| 9.472222222222221|    0.89|           14.1197|                 251.0|15.826300000000002|       0.0|             1015.13|                0.0|\n| 9.355555555555558|    0.86|           14.2646|                 259.0|15.826300000000002|       0.0|             1015.63|                0.0|\n| 9.377777777777778|    0.89|3.9284000000000003|                 204.0|           14.9569|       0.0|             1015.94|                0.0|\n|  8.28888888888889|    0.83|           14.1036|                 269.0|15.826300000000002|       0.0|             1016.41|                0.0|\n| 8.755555555555553|    0.83|           11.0446|                 259.0|15.826300000000002|       0.0|             1016.51|                0.0|\n| 9.222222222222221|    0.85|           13.9587|                 258.0|           14.9569|       0.0|             1016.66|                0.0|\n| 7.733333333333334|    0.95|           12.3648|                 259.0| 9.982000000000001|       0.0|             1016.72|                0.0|\n|  8.77222222222222|    0.89|           14.1519|                 260.0| 9.982000000000001|       0.0|             1016.84|                0.0|\n| 10.82222222222222|    0.82|           11.3183|                 259.0| 9.982000000000001|       0.0|             1017.37|                0.0|\n| 13.77222222222222|    0.72|12.525800000000002|                 279.0| 9.982000000000001|       0.0|             1017.22|                0.0|\n|16.016666666666666|    0.67|           17.5651|                 290.0|           11.2056|       0.0|             1017.42|                0.0|\n|17.144444444444446|    0.54|           19.7869|                 316.0|           11.4471|       0.0|             1017.74|                0.0|\n|17.800000000000004|    0.55|21.944300000000002|                 281.0|11.270000000000001|       0.0|             1017.59|                0.0|\n|17.333333333333332|    0.51|           20.6885|                 289.0|11.270000000000001|       0.0|             1017.48|                0.0|\n| 18.87777777777778|    0.47|15.375500000000002|                 262.0|           11.4471|       0.0|             1017.17|                0.0|\n|18.911111111111115|    0.46|           10.4006|                 288.0|11.270000000000001|       0.0|             1016.47|                0.0|\n| 15.38888888888889|     0.6|           14.4095|                 251.0|11.270000000000001|       0.0|             1016.15|                0.0|\n|15.550000000000002|    0.63|11.157300000000001|                 230.0|           11.4471|       0.0|             1016.17|                0.0|\n|14.255555555555553|    0.69|            8.5169|                 163.0|           11.2056|       0.0|             1015.82|                0.0|\n|13.144444444444442|     0.7| 7.631400000000001|                 139.0|           11.2056|       0.0|             1015.83|                0.0|\n+------------------+--------+------------------+----------------------+------------------+----------+--------------------+-------------------+\nonly showing top 20 rows\n\n"
     ]
    }
   ],
   "source": [
    "df_new = df_new.drop(\"Precip Type\", \"Apparent Temperature (C)\")\n",
    "df_new.show()"
   ]
  },
  {
   "cell_type": "code",
   "execution_count": 0,
   "metadata": {
    "application/vnd.databricks.v1+cell": {
     "cellMetadata": {
      "byteLimit": 2048000,
      "rowLimit": 10000
     },
     "inputWidgets": {},
     "nuid": "b2e7a9d7-c324-4538-8ac1-1aa809db18f0",
     "showTitle": false,
     "title": ""
    }
   },
   "outputs": [
    {
     "output_type": "stream",
     "name": "stdout",
     "output_type": "stream",
     "text": [
      "Out[41]: ['Temperature (C)',\n 'Humidity',\n 'Wind Speed (km/h)',\n 'Wind Bearing (degrees)',\n 'Visibility (km)',\n 'Loud Cover',\n 'Pressure (millibars)',\n 'Precip_Type_indexed']"
     ]
    }
   ],
   "source": [
    "df_new.columns"
   ]
  },
  {
   "cell_type": "code",
   "execution_count": 0,
   "metadata": {
    "application/vnd.databricks.v1+cell": {
     "cellMetadata": {
      "byteLimit": 2048000,
      "rowLimit": 10000
     },
     "inputWidgets": {},
     "nuid": "e03a50e8-38ae-4cbb-8c7d-4c41f3d4b4f5",
     "showTitle": false,
     "title": ""
    }
   },
   "outputs": [],
   "source": [
    "## Create a final column with independent features for model input\n",
    "from pyspark.ml.feature import VectorAssembler\n",
    "\n",
    "feature_assembler = VectorAssembler(inputCols=[\n",
    " 'Humidity',\n",
    " 'Wind Speed (km/h)',\n",
    " 'Wind Bearing (degrees)',\n",
    " 'Visibility (km)',\n",
    " 'Loud Cover',\n",
    " 'Pressure (millibars)',\n",
    " 'Precip_Type_indexed'], outputCol=\"Independent Features\")\n",
    "\n",
    "output=feature_assembler.transform(df_new)"
   ]
  },
  {
   "cell_type": "code",
   "execution_count": 0,
   "metadata": {
    "application/vnd.databricks.v1+cell": {
     "cellMetadata": {
      "byteLimit": 2048000,
      "rowLimit": 10000
     },
     "inputWidgets": {},
     "nuid": "25c263c0-5f67-4028-b29d-c1e252c74847",
     "showTitle": false,
     "title": ""
    }
   },
   "outputs": [
    {
     "output_type": "stream",
     "name": "stdout",
     "output_type": "stream",
     "text": [
      "+--------------------+\n|Independent Features|\n+--------------------+\n|[0.89,14.1197,251...|\n|[0.86,14.2646,259...|\n|[0.89,3.928400000...|\n|[0.83,14.1036,269...|\n|[0.83,11.0446,259...|\n|[0.85,13.9587,258...|\n|[0.95,12.3648,259...|\n|[0.89,14.1519,260...|\n|[0.82,11.3183,259...|\n|[0.72,12.52580000...|\n|[0.67,17.5651,290...|\n|[0.54,19.7869,316...|\n|[0.55,21.94430000...|\n|[0.51,20.6885,289...|\n|[0.47,15.37550000...|\n|[0.46,10.4006,288...|\n|[0.6,14.4095,251....|\n|[0.63,11.15730000...|\n|[0.69,8.5169,163....|\n|[0.7,7.6314000000...|\n+--------------------+\nonly showing top 20 rows\n\n"
     ]
    }
   ],
   "source": [
    "output.select(\"Independent Features\").show()"
   ]
  },
  {
   "cell_type": "code",
   "execution_count": 0,
   "metadata": {
    "application/vnd.databricks.v1+cell": {
     "cellMetadata": {
      "byteLimit": 2048000,
      "rowLimit": 10000
     },
     "inputWidgets": {},
     "nuid": "7a09e607-b13b-49dc-a494-49d806d81133",
     "showTitle": false,
     "title": ""
    }
   },
   "outputs": [],
   "source": [
    "df_final = output.select(\"Independent Features\", \"Temperature (C)\")"
   ]
  },
  {
   "cell_type": "code",
   "execution_count": 0,
   "metadata": {
    "application/vnd.databricks.v1+cell": {
     "cellMetadata": {
      "byteLimit": 2048000,
      "rowLimit": 10000
     },
     "inputWidgets": {},
     "nuid": "f52aea60-7b35-46a1-8fe2-8b7379f9a5dd",
     "showTitle": false,
     "title": ""
    }
   },
   "outputs": [
    {
     "output_type": "stream",
     "name": "stdout",
     "output_type": "stream",
     "text": [
      "+--------------------+------------------+\n|Independent Features|   Temperature (C)|\n+--------------------+------------------+\n|[0.89,14.1197,251...| 9.472222222222221|\n|[0.86,14.2646,259...| 9.355555555555558|\n|[0.89,3.928400000...| 9.377777777777778|\n|[0.83,14.1036,269...|  8.28888888888889|\n|[0.83,11.0446,259...| 8.755555555555553|\n|[0.85,13.9587,258...| 9.222222222222221|\n|[0.95,12.3648,259...| 7.733333333333334|\n|[0.89,14.1519,260...|  8.77222222222222|\n|[0.82,11.3183,259...| 10.82222222222222|\n|[0.72,12.52580000...| 13.77222222222222|\n|[0.67,17.5651,290...|16.016666666666666|\n|[0.54,19.7869,316...|17.144444444444446|\n|[0.55,21.94430000...|17.800000000000004|\n|[0.51,20.6885,289...|17.333333333333332|\n|[0.47,15.37550000...| 18.87777777777778|\n|[0.46,10.4006,288...|18.911111111111115|\n|[0.6,14.4095,251....| 15.38888888888889|\n|[0.63,11.15730000...|15.550000000000002|\n|[0.69,8.5169,163....|14.255555555555553|\n|[0.7,7.6314000000...|13.144444444444442|\n+--------------------+------------------+\nonly showing top 20 rows\n\n"
     ]
    }
   ],
   "source": [
    "df_final.show()"
   ]
  },
  {
   "cell_type": "code",
   "execution_count": 0,
   "metadata": {
    "application/vnd.databricks.v1+cell": {
     "cellMetadata": {
      "byteLimit": 2048000,
      "rowLimit": 10000
     },
     "inputWidgets": {},
     "nuid": "7368c9d6-f00e-4c8b-b6d9-a851dca09c8e",
     "showTitle": false,
     "title": ""
    }
   },
   "outputs": [],
   "source": [
    "from pyspark.ml.regression import LinearRegression\n",
    "\n",
    "train_data, test_data = df_final.randomSplit([0.75, 0.25])\n",
    "regressor = LinearRegression(featuresCol='Independent Features', labelCol='Temperature (C)')\n",
    "regressor = regressor.fit(train_data)"
   ]
  },
  {
   "cell_type": "code",
   "execution_count": 0,
   "metadata": {
    "application/vnd.databricks.v1+cell": {
     "cellMetadata": {
      "byteLimit": 2048000,
      "rowLimit": 10000
     },
     "inputWidgets": {},
     "nuid": "61450f19-3a3b-4161-8dd0-3f89f3b3868f",
     "showTitle": false,
     "title": ""
    }
   },
   "outputs": [
    {
     "output_type": "stream",
     "name": "stdout",
     "output_type": "stream",
     "text": [
      "Out[53]: DenseVector([-26.9437, -0.2054, 0.0025, 0.1989, 0.0, -0.0008, -10.601])"
     ]
    }
   ],
   "source": [
    "regressor.coefficients"
   ]
  },
  {
   "cell_type": "code",
   "execution_count": 0,
   "metadata": {
    "application/vnd.databricks.v1+cell": {
     "cellMetadata": {
      "byteLimit": 2048000,
      "rowLimit": 10000
     },
     "inputWidgets": {},
     "nuid": "1fb52b37-f455-438d-921e-2063ebe41bcc",
     "showTitle": false,
     "title": ""
    }
   },
   "outputs": [
    {
     "output_type": "stream",
     "name": "stdout",
     "output_type": "stream",
     "text": [
      "Out[54]: 33.51686283813776"
     ]
    }
   ],
   "source": [
    "regressor.intercept"
   ]
  },
  {
   "cell_type": "code",
   "execution_count": 0,
   "metadata": {
    "application/vnd.databricks.v1+cell": {
     "cellMetadata": {
      "byteLimit": 2048000,
      "rowLimit": 10000
     },
     "inputWidgets": {},
     "nuid": "717de6fd-6514-47f6-8884-f6191b685b42",
     "showTitle": false,
     "title": ""
    }
   },
   "outputs": [],
   "source": [
    "preds = regressor.evaluate(test_data)"
   ]
  },
  {
   "cell_type": "code",
   "execution_count": 0,
   "metadata": {
    "application/vnd.databricks.v1+cell": {
     "cellMetadata": {
      "byteLimit": 2048000,
      "rowLimit": 10000
     },
     "inputWidgets": {},
     "nuid": "ff7aec9a-7f69-4387-bd69-9859327d0821",
     "showTitle": false,
     "title": ""
    }
   },
   "outputs": [
    {
     "output_type": "stream",
     "name": "stdout",
     "output_type": "stream",
     "text": [
      "+--------------------+------------------+------------------+\n|Independent Features|   Temperature (C)|        prediction|\n+--------------------+------------------+------------------+\n|(7,[0,3],[0.93,0....| 11.11111111111111| 8.568105685385753|\n|(7,[0,3],[0.93,1....|11.161111111111113| 8.769835297630777|\n|(7,[0,3,5],[0.61,...|              12.3|18.254210195088888|\n|(7,[0,3,5],[0.73,...| 13.58888888888889| 15.02335445104725|\n|(7,[0,3,5],[0.75,...|17.200000000000003|14.483717081861535|\n|(7,[0,3,5],[0.75,...|13.355555555555554|15.644520649396526|\n|(7,[0,3,5],[0.78,...|12.711111111111112| 14.83189855510777|\n|(7,[0,3,5],[0.8,1...|13.177777777777777|14.298688725450258|\n|(7,[0,3,5],[0.85,...|10.216666666666667|11.736206928467492|\n|(7,[0,3,5],[0.87,...|11.555555555555554|11.211457768727513|\n|(7,[0,3,5],[0.87,...|15.994444444444444|11.235864646552724|\n|(7,[0,3,5],[0.87,...|21.688888888888894|11.665787304111074|\n|(7,[0,3,5],[0.87,...|18.333333333333332|12.232468146491716|\n|(7,[0,3,5],[0.89,...| 8.838888888888887|10.648845399334252|\n|(7,[0,3,5],[0.89,...|  7.66111111111111|10.712452345695773|\n|(7,[0,3,5],[0.9,7...| 14.83888888888889| 9.869007772503377|\n|(7,[0,3,5],[0.9,9...| 22.62222222222222| 10.40575177915986|\n|(7,[0,3,5],[0.93,...|10.972222222222221| 8.028831315792228|\n|(7,[0,3,5],[0.93,...| 9.888888888888888| 8.509041140089753|\n|(7,[0,3,5],[0.93,...|7.1000000000000005|  8.80675292369492|\n+--------------------+------------------+------------------+\nonly showing top 20 rows\n\n"
     ]
    }
   ],
   "source": [
    "preds.predictions.show()"
   ]
  },
  {
   "cell_type": "code",
   "execution_count": 0,
   "metadata": {
    "application/vnd.databricks.v1+cell": {
     "cellMetadata": {
      "byteLimit": 2048000,
      "rowLimit": 10000
     },
     "inputWidgets": {},
     "nuid": "de623792-1c29-4990-a88b-e62937c55565",
     "showTitle": false,
     "title": ""
    }
   },
   "outputs": [
    {
     "output_type": "stream",
     "name": "stdout",
     "output_type": "stream",
     "text": [
      "Out[57]: (0.5864082714406205, 4.9694839855224, 37.5059296150884)"
     ]
    }
   ],
   "source": [
    "#3 Print Results\n",
    "\n",
    "preds.r2, preds.meanAbsoluteError, preds.meanSquaredError"
   ]
  },
  {
   "cell_type": "code",
   "execution_count": 0,
   "metadata": {
    "application/vnd.databricks.v1+cell": {
     "cellMetadata": {},
     "inputWidgets": {},
     "nuid": "1e591962-6222-438d-800c-08367605cbdc",
     "showTitle": false,
     "title": ""
    }
   },
   "outputs": [],
   "source": []
  },
  {
   "cell_type": "code",
   "execution_count": 0,
   "metadata": {
    "application/vnd.databricks.v1+cell": {
     "cellMetadata": {},
     "inputWidgets": {},
     "nuid": "923d060a-e611-4921-ae22-f0df38e0a3c9",
     "showTitle": false,
     "title": ""
    }
   },
   "outputs": [],
   "source": []
  }
 ],
 "metadata": {
  "application/vnd.databricks.v1+notebook": {
   "dashboards": [],
   "language": "python",
   "notebookMetadata": {
    "pythonIndentUnit": 4
   },
   "notebookName": "PySpark_Linear_Regression",
   "widgets": {}
  }
 },
 "nbformat": 4,
 "nbformat_minor": 0
}
